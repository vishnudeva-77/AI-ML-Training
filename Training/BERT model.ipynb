{
 "cells": [
  {
   "cell_type": "code",
   "execution_count": 2,
   "id": "703c9fa4-7c82-4a40-b216-3609b354061a",
   "metadata": {},
   "outputs": [],
   "source": [
    "from transformers import AutoTokenizer, AutoModel\n",
    "import torch\n",
    "from sklearn.metrics.pairwise import cosine_similarity"
   ]
  },
  {
   "cell_type": "code",
   "execution_count": null,
   "id": "eebb2d00-89e8-4c33-9841-004afa9730fa",
   "metadata": {},
   "outputs": [],
   "source": [
    "!pip install transformers torch scikit-learn"
   ]
  },
  {
   "cell_type": "code",
   "execution_count": 4,
   "id": "8ff04958-815b-4cfc-acaa-f6e26cd24144",
   "metadata": {},
   "outputs": [],
   "source": [
    "# Step 1: Load tokenizer & model\n",
    "tokenizer = AutoTokenizer.from_pretrained(\"bert-base-uncased\")\n",
    "model = AutoModel.from_pretrained(\"bert-base-uncased\")"
   ]
  },
  {
   "cell_type": "code",
   "execution_count": 5,
   "id": "95102b93-380c-422d-bca0-027fbafc5c46",
   "metadata": {},
   "outputs": [],
   "source": [
    "# Step 2: Create a small \"FAQ database\"\n",
    "faq_sentences = [\n",
    " \"How can I reset my password?\",\n",
    " \"Where is the library located?\",\n",
    " \"What is Artificial Intelligence?\",\n",
    " \"How to apply for a scholarship?\",\n",
    " \"What are the cafeteria opening hours?\"\n",
    "]"
   ]
  },
  {
   "cell_type": "code",
   "execution_count": 8,
   "id": "ef37ba70-891d-445b-bc1c-ff879392302b",
   "metadata": {},
   "outputs": [],
   "source": [
    "# Step 3: Function to get sentence embedding\n",
    "def get_embedding(sentence):\n",
    "    inputs = tokenizer(\n",
    "        sentence,\n",
    "        return_tensors=\"pt\",\n",
    "        truncation=True,\n",
    "        padding=True\n",
    "    )\n",
    "    with torch.no_grad():\n",
    "        outputs = model(**inputs)\n",
    "    return outputs.last_hidden_state.mean(dim=1).numpy()"
   ]
  },
  {
   "cell_type": "code",
   "execution_count": 9,
   "id": "fa4dbe86-a8fd-4c38-bf2d-acb6985ad61b",
   "metadata": {},
   "outputs": [],
   "source": [
    "# Step 4: Get embeddings for all FAQ sentences\n",
    "faq_embeddings = [get_embedding(sent) for sent in faq_sentences]"
   ]
  },
  {
   "cell_type": "code",
   "execution_count": 14,
   "id": "c846e1b9-8bc4-47aa-8003-a5a4faf67da5",
   "metadata": {},
   "outputs": [],
   "source": [
    "# Step 5: Student enters a query\n",
    "query = \"Apply scholarship\"\n",
    "query_embedding = get_embedding(query)"
   ]
  },
  {
   "cell_type": "code",
   "execution_count": 15,
   "id": "c7e3be3b-41d5-46fa-90f3-a02a64a44a8c",
   "metadata": {},
   "outputs": [],
   "source": [
    "# Step 6: Compare with cosine similarity\n",
    "similarities = [cosine_similarity(query_embedding, emb)[0][0] for\n",
    "emb in faq_embeddings]"
   ]
  },
  {
   "cell_type": "code",
   "execution_count": 16,
   "id": "900c5e14-57bc-4b36-8241-914155d994f1",
   "metadata": {},
   "outputs": [
    {
     "name": "stdout",
     "output_type": "stream",
     "text": [
      "Student Question: Apply scholarship\n",
      "Most Similar FAQ: How to apply for a scholarship?\n"
     ]
    }
   ],
   "source": [
    "# Step 7: Find most similar question\n",
    "best_match_index = similarities.index(max(similarities))\n",
    "print(f\"Student Question: {query}\")\n",
    "print(f\"Most Similar FAQ: {faq_sentences[best_match_index]}\")"
   ]
  },
  {
   "cell_type": "code",
   "execution_count": null,
   "id": "f5ddc299-26d2-41c7-9c12-c63f4f956db5",
   "metadata": {},
   "outputs": [],
   "source": [
    "#Text clssification"
   ]
  },
  {
   "cell_type": "code",
   "execution_count": 17,
   "id": "656b92c6-76a4-4b57-8c07-c04aad01b910",
   "metadata": {},
   "outputs": [],
   "source": [
    "from transformers import AutoTokenizer, AutoModel\n",
    "import torch\n",
    "from sklearn.metrics.pairwise import cosine_similarity"
   ]
  },
  {
   "cell_type": "code",
   "execution_count": 18,
   "id": "449b6fde-cc41-45e8-ae20-80df7140e4b2",
   "metadata": {},
   "outputs": [],
   "source": [
    "# Step 1: Load BERT tokenizer and model\n",
    "tokenizer = AutoTokenizer.from_pretrained(\"bert-base-uncased\")\n",
    "model = AutoModel.from_pretrained(\"bert-base-uncased\")"
   ]
  },
  {
   "cell_type": "code",
   "execution_count": 19,
   "id": "c51a3c55-2a78-4701-9ad9-9d3629c7e763",
   "metadata": {},
   "outputs": [],
   "source": [
    "# Step 2: Cricketers and their countries\n",
    "cricketers = {\n",
    " \"MS Dhoni\": \"India\",\n",
    " \"Virat Kohli\": \"India\",\n",
    " \"Ricky Ponting\": \"Australia\",\n",
    " \"Steve Smith\": \"Australia\",\n",
    " \"Kane Williamson\": \"New Zealand\",\n",
    " \"Joe Root\": \"England\"\n",
    "}"
   ]
  },
  {
   "cell_type": "code",
   "execution_count": 22,
   "id": "9837774c-8f27-4995-ae66-0360fe0a3b7e",
   "metadata": {},
   "outputs": [],
   "source": [
    "# Step 3: Function to get BERT embedding\n",
    "def get_embedding(text):\n",
    "    inputs = tokenizer(\n",
    "        text,\n",
    "        return_tensors=\"pt\",\n",
    "        truncation=True,\n",
    "        padding=True\n",
    "    )\n",
    "    with torch.no_grad():\n",
    "        outputs = model(**inputs)\n",
    "    return outputs.last_hidden_state.mean(dim=1).numpy()"
   ]
  },
  {
   "cell_type": "code",
   "execution_count": 23,
   "id": "03cfb48c-93b4-4993-92f6-218fad9350d0",
   "metadata": {},
   "outputs": [],
   "source": [
    "# Step 4: Function to check cricketer-country similarity\n",
    "def check_country_similarity(player, country):\n",
    " player_emb = get_embedding(player)\n",
    " country_emb = get_embedding(country)\n",
    " similarity_score = cosine_similarity(player_emb,\n",
    "country_emb)[0][0]\n",
    " return similarity_score"
   ]
  },
  {
   "cell_type": "code",
   "execution_count": 24,
   "id": "5d44148c-4317-4216-9214-00dc97649049",
   "metadata": {},
   "outputs": [],
   "source": [
    "# Step 5: Test with Dhoni and others\n",
    "test_cases = [\n",
    " (\"MS Dhoni\", \"India\"),\n",
    " (\"MS Dhoni\", \"Australia\"),\n",
    " (\"Ricky Ponting\", \"Australia\"),\n",
    " (\"Virat Kohli\", \"India\"),\n",
    " (\"Kane Williamson\", \"New Zealand\"),\n",
    " (\"Joe Root\", \"India\")\n",
    "]"
   ]
  },
  {
   "cell_type": "code",
   "execution_count": 26,
   "id": "b5830741-3a2a-485a-9ab7-2262cb48dbdf",
   "metadata": {},
   "outputs": [
    {
     "name": "stdout",
     "output_type": "stream",
     "text": [
      "MS Dhoni - India | Similarity: 0.64 | MATCH \n",
      "MS Dhoni - Australia | Similarity: 0.58 | NO MATCH \n",
      "Ricky Ponting - Australia | Similarity: 0.55 | NO MATCH \n",
      "Virat Kohli - India | Similarity: 0.53 | NO MATCH \n",
      "Kane Williamson - New Zealand | Similarity: 0.55 | NO MATCH \n",
      "Joe Root - India | Similarity: 0.68 | MATCH \n"
     ]
    }
   ],
   "source": [
    "# Step 6: Classify based on similarity threshold\n",
    "threshold = 0.63 # You can adjust this\n",
    "for player, country in test_cases:\n",
    " score = check_country_similarity(player, country)\n",
    " match = \"MATCH \" if score >= threshold else \"NO MATCH \"\n",
    " print(f\"{player} - {country} | Similarity: {score:.2f} | {match}\")"
   ]
  },
  {
   "cell_type": "code",
   "execution_count": null,
   "id": "f73ca895-e84f-46ab-bd81-ea446feaf729",
   "metadata": {},
   "outputs": [],
   "source": []
  }
 ],
 "metadata": {
  "kernelspec": {
   "display_name": "Python 3 (ipykernel)",
   "language": "python",
   "name": "python3"
  },
  "language_info": {
   "codemirror_mode": {
    "name": "ipython",
    "version": 3
   },
   "file_extension": ".py",
   "mimetype": "text/x-python",
   "name": "python",
   "nbconvert_exporter": "python",
   "pygments_lexer": "ipython3",
   "version": "3.9.6"
  }
 },
 "nbformat": 4,
 "nbformat_minor": 5
}
