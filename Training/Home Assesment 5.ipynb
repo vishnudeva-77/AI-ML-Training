{
 "cells": [
  {
   "cell_type": "code",
   "execution_count": 1,
   "id": "254b47bf",
   "metadata": {},
   "outputs": [
    {
     "name": "stderr",
     "output_type": "stream",
     "text": [
      "WARNING: Using incubator modules: jdk.incubator.vector\n",
      "Using Spark's default log4j profile: org/apache/spark/log4j2-defaults.properties\n",
      "Setting default log level to \"WARN\".\n",
      "To adjust logging level use sc.setLogLevel(newLevel). For SparkR, use setLogLevel(newLevel).\n",
      "25/07/22 18:18:14 WARN NativeCodeLoader: Unable to load native-hadoop library for your platform... using builtin-java classes where applicable\n",
      "                                                                                \r"
     ]
    },
    {
     "name": "stdout",
     "output_type": "stream",
     "text": [
      "+-------------+------------------+\n",
      "|    Continent|      TotalRevenue|\n",
      "+-------------+------------------+\n",
      "|       Europe|3301564.5800000005|\n",
      "|       Africa|2384407.6600000006|\n",
      "|North America| 2922833.039999999|\n",
      "|South America|2228105.8800000004|\n",
      "|      Oceania| 969209.2999999998|\n",
      "|         Asia|        2952033.76|\n",
      "+-------------+------------------+\n",
      "\n"
     ]
    }
   ],
   "source": [
    "from pyspark.sql import SparkSession\n",
    "from pyspark.sql.functions import col, sum as spark_sum\n",
    "from pyspark.sql.types import StructType, StructField, StringType\n",
    "\n",
    "spark = SparkSession.builder.appName(\"Sales Revenue per Continent\").getOrCreate()\n",
    "\n",
    "sales_df = spark.read.csv(\"all_countries_sales_data.csv\", header=True, inferSchema=True)\n",
    "\n",
    "sales_df = sales_df.withColumn(\"Revenue\", col(\"UnitsSold\") * col(\"UnitPrice\"))\n",
    "\n",
    "sales_df = sales_df.drop(\"continent\")\n",
    "\n",
    "country_continent_data = [\n",
    "    (\"USA\", \"North America\"), (\"Canada\", \"North America\"), (\"Mexico\", \"North America\"),\n",
    "    (\"Brazil\", \"South America\"), (\"Argentina\", \"South America\"),\n",
    "    (\"Germany\", \"Europe\"), (\"France\", \"Europe\"), (\"UK\", \"Europe\"),\n",
    "    (\"India\", \"Asia\"), (\"China\", \"Asia\"), (\"Japan\", \"Asia\"),\n",
    "    (\"Australia\", \"Oceania\"), (\"South Africa\", \"Africa\"), (\"Egypt\", \"Africa\")\n",
    "]\n",
    "\n",
    "schema = StructType([\n",
    "    StructField(\"Country\", StringType(), True),\n",
    "    StructField(\"Continent\", StringType(), True)\n",
    "])\n",
    "\n",
    "continent_df = spark.createDataFrame(country_continent_data, schema=schema)\n",
    "\n",
    "merged_df = sales_df.join(continent_df, sales_df[\"country\"] == continent_df[\"Country\"], how=\"left\") .drop(\"Country\")  \n",
    "\n",
    "\n",
    "merged_df = merged_df.na.fill({\"Continent\": \"Unknown\"})\n",
    "\n",
    "\n",
    "revenue_by_continent = merged_df.groupBy(\"Continent\").agg(\n",
    "    spark_sum(\"Revenue\").alias(\"TotalRevenue\")\n",
    ")\n",
    "\n",
    "revenue_by_continent.show()\n"
   ]
  },
  {
   "cell_type": "code",
   "execution_count": null,
   "id": "40a433d4",
   "metadata": {},
   "outputs": [],
   "source": []
  }
 ],
 "metadata": {
  "kernelspec": {
   "display_name": "Python 3",
   "language": "python",
   "name": "python3"
  },
  "language_info": {
   "codemirror_mode": {
    "name": "ipython",
    "version": 3
   },
   "file_extension": ".py",
   "mimetype": "text/x-python",
   "name": "python",
   "nbconvert_exporter": "python",
   "pygments_lexer": "ipython3",
   "version": "3.13.5"
  }
 },
 "nbformat": 4,
 "nbformat_minor": 5
}
