{
 "cells": [
  {
   "cell_type": "code",
   "execution_count": null,
   "id": "fea81dc5-a87e-4f6f-9b95-5bdbcf5d555e",
   "metadata": {},
   "outputs": [],
   "source": [
    "!pip install transformers torch"
   ]
  },
  {
   "cell_type": "code",
   "execution_count": null,
   "id": "6e53ccde-fc98-4426-a2fb-1d2c49bb0827",
   "metadata": {},
   "outputs": [],
   "source": [
    "!pip install ipywidgets"
   ]
  },
  {
   "cell_type": "code",
   "execution_count": 5,
   "id": "88eddc14-0419-4968-b5eb-70bb18baa55c",
   "metadata": {},
   "outputs": [],
   "source": [
    "from transformers import AutoTokenizer, AutoModel\n",
    "import torch"
   ]
  },
  {
   "cell_type": "code",
   "execution_count": null,
   "id": "fc38cbd7-913b-4b3d-8954-cfe88138c8ab",
   "metadata": {},
   "outputs": [],
   "source": [
    "!pip install huggingface_hub[hf_xet]"
   ]
  },
  {
   "cell_type": "code",
   "execution_count": 10,
   "id": "b2dcdc08-89a5-44a4-b64b-911b2d580809",
   "metadata": {},
   "outputs": [],
   "source": [
    "tokenizer = AutoTokenizer.from_pretrained(\"bert-base-uncased\")\n",
    "model = AutoModel.from_pretrained(\"bert-base-uncased\")"
   ]
  },
  {
   "cell_type": "code",
   "execution_count": 11,
   "id": "185d747a-4f94-4ee1-a267-75c02ccb7c0e",
   "metadata": {},
   "outputs": [],
   "source": [
    "sentence = \"Artificial Intelligence is transforming the world.\""
   ]
  },
  {
   "cell_type": "code",
   "execution_count": null,
   "id": "5cdba8f2-2335-4c01-9ed2-1336b5cfb231",
   "metadata": {},
   "outputs": [],
   "source": []
  }
 ],
 "metadata": {
  "kernelspec": {
   "display_name": "Python 3 (ipykernel)",
   "language": "python",
   "name": "python3"
  },
  "language_info": {
   "codemirror_mode": {
    "name": "ipython",
    "version": 3
   },
   "file_extension": ".py",
   "mimetype": "text/x-python",
   "name": "python",
   "nbconvert_exporter": "python",
   "pygments_lexer": "ipython3",
   "version": "3.9.6"
  }
 },
 "nbformat": 4,
 "nbformat_minor": 5
}
