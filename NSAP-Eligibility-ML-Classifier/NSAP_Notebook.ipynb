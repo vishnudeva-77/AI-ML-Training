{
 "cells": [
  {
   "cell_type": "code",
   "execution_count": 8,
   "metadata": {
    "id": "893ac0af-0535-454f-ae79-b05d5ade7b36"
   },
   "outputs": [
    {
     "data": {
      "text/html": [
       "<div>\n",
       "<style scoped>\n",
       "    .dataframe tbody tr th:only-of-type {\n",
       "        vertical-align: middle;\n",
       "    }\n",
       "\n",
       "    .dataframe tbody tr th {\n",
       "        vertical-align: top;\n",
       "    }\n",
       "\n",
       "    .dataframe thead th {\n",
       "        text-align: right;\n",
       "    }\n",
       "</style>\n",
       "<table border=\"1\" class=\"dataframe\">\n",
       "  <thead>\n",
       "    <tr style=\"text-align: right;\">\n",
       "      <th></th>\n",
       "      <th>state_ut_name</th>\n",
       "      <th>state_ut_code</th>\n",
       "      <th>constituency</th>\n",
       "      <th>constituency_code</th>\n",
       "      <th>fiscal_year</th>\n",
       "      <th>indicator_1</th>\n",
       "      <th>indicator_2</th>\n",
       "      <th>indicator_3</th>\n",
       "    </tr>\n",
       "  </thead>\n",
       "  <tbody>\n",
       "    <tr>\n",
       "      <th>0</th>\n",
       "      <td>Bihar</td>\n",
       "      <td>4</td>\n",
       "      <td>Valmiki Nagar</td>\n",
       "      <td>1</td>\n",
       "      <td>2019-20</td>\n",
       "      <td>10.12</td>\n",
       "      <td>10.12</td>\n",
       "      <td>100.0</td>\n",
       "    </tr>\n",
       "    <tr>\n",
       "      <th>1</th>\n",
       "      <td>Bihar</td>\n",
       "      <td>4</td>\n",
       "      <td>Ramnagar (SC)</td>\n",
       "      <td>2</td>\n",
       "      <td>2019-20</td>\n",
       "      <td>7.19</td>\n",
       "      <td>7.19</td>\n",
       "      <td>100.0</td>\n",
       "    </tr>\n",
       "    <tr>\n",
       "      <th>2</th>\n",
       "      <td>Bihar</td>\n",
       "      <td>4</td>\n",
       "      <td>Narkatiaganj</td>\n",
       "      <td>3</td>\n",
       "      <td>2019-20</td>\n",
       "      <td>7.17</td>\n",
       "      <td>7.17</td>\n",
       "      <td>100.0</td>\n",
       "    </tr>\n",
       "    <tr>\n",
       "      <th>3</th>\n",
       "      <td>Bihar</td>\n",
       "      <td>4</td>\n",
       "      <td>Bagaha</td>\n",
       "      <td>4</td>\n",
       "      <td>2019-20</td>\n",
       "      <td>6.46</td>\n",
       "      <td>6.46</td>\n",
       "      <td>100.0</td>\n",
       "    </tr>\n",
       "    <tr>\n",
       "      <th>4</th>\n",
       "      <td>Bihar</td>\n",
       "      <td>4</td>\n",
       "      <td>Lauriya</td>\n",
       "      <td>5</td>\n",
       "      <td>2019-20</td>\n",
       "      <td>7.39</td>\n",
       "      <td>7.39</td>\n",
       "      <td>100.0</td>\n",
       "    </tr>\n",
       "    <tr>\n",
       "      <th>5</th>\n",
       "      <td>Bihar</td>\n",
       "      <td>4</td>\n",
       "      <td>Nautan</td>\n",
       "      <td>6</td>\n",
       "      <td>2019-20</td>\n",
       "      <td>8.54</td>\n",
       "      <td>8.54</td>\n",
       "      <td>100.0</td>\n",
       "    </tr>\n",
       "    <tr>\n",
       "      <th>6</th>\n",
       "      <td>Bihar</td>\n",
       "      <td>4</td>\n",
       "      <td>Chanpatia</td>\n",
       "      <td>7</td>\n",
       "      <td>2019-20</td>\n",
       "      <td>9.76</td>\n",
       "      <td>9.76</td>\n",
       "      <td>100.0</td>\n",
       "    </tr>\n",
       "    <tr>\n",
       "      <th>7</th>\n",
       "      <td>Bihar</td>\n",
       "      <td>4</td>\n",
       "      <td>Bettiah</td>\n",
       "      <td>8</td>\n",
       "      <td>2019-20</td>\n",
       "      <td>6.67</td>\n",
       "      <td>6.67</td>\n",
       "      <td>100.0</td>\n",
       "    </tr>\n",
       "    <tr>\n",
       "      <th>8</th>\n",
       "      <td>Bihar</td>\n",
       "      <td>4</td>\n",
       "      <td>Sikta</td>\n",
       "      <td>9</td>\n",
       "      <td>2019-20</td>\n",
       "      <td>8.41</td>\n",
       "      <td>8.41</td>\n",
       "      <td>100.0</td>\n",
       "    </tr>\n",
       "    <tr>\n",
       "      <th>9</th>\n",
       "      <td>Bihar</td>\n",
       "      <td>4</td>\n",
       "      <td>Raxaul</td>\n",
       "      <td>10</td>\n",
       "      <td>2019-20</td>\n",
       "      <td>7.63</td>\n",
       "      <td>7.63</td>\n",
       "      <td>100.0</td>\n",
       "    </tr>\n",
       "  </tbody>\n",
       "</table>\n",
       "</div>"
      ],
      "text/plain": [
       "  state_ut_name  state_ut_code   constituency  constituency_code fiscal_year  \\\n",
       "0         Bihar              4  Valmiki Nagar                  1     2019-20   \n",
       "1         Bihar              4  Ramnagar (SC)                  2     2019-20   \n",
       "2         Bihar              4   Narkatiaganj                  3     2019-20   \n",
       "3         Bihar              4         Bagaha                  4     2019-20   \n",
       "4         Bihar              4        Lauriya                  5     2019-20   \n",
       "5         Bihar              4         Nautan                  6     2019-20   \n",
       "6         Bihar              4      Chanpatia                  7     2019-20   \n",
       "7         Bihar              4        Bettiah                  8     2019-20   \n",
       "8         Bihar              4          Sikta                  9     2019-20   \n",
       "9         Bihar              4         Raxaul                 10     2019-20   \n",
       "\n",
       "   indicator_1  indicator_2  indicator_3  \n",
       "0        10.12        10.12        100.0  \n",
       "1         7.19         7.19        100.0  \n",
       "2         7.17         7.17        100.0  \n",
       "3         6.46         6.46        100.0  \n",
       "4         7.39         7.39        100.0  \n",
       "5         8.54         8.54        100.0  \n",
       "6         9.76         9.76        100.0  \n",
       "7         6.67         6.67        100.0  \n",
       "8         8.41         8.41        100.0  \n",
       "9         7.63         7.63        100.0  "
      ]
     },
     "execution_count": 8,
     "metadata": {},
     "output_type": "execute_result"
    }
   ],
   "source": [
    "\n",
    "import os, types\n",
    "import pandas as pd\n",
    "from botocore.client import Config\n",
    "import ibm_boto3\n",
    "\n",
    "def __iter__(self): return 0\n",
    "\n",
    "# @hidden_cell\n",
    "# The following code accesses a file in your IBM Cloud Object Storage. It includes your credentials.\n",
    "# You might want to remove those credentials before you share the notebook.\n",
    "\n",
    "cos_client = ibm_boto3.client(service_name='s3',\n",
    "    ibm_api_key_id='yq04Ml5U0c_khKeUcK6miM6qmXUqJ26vzHUCZ4EDoT_3',\n",
    "    ibm_auth_endpoint=\"https://iam.cloud.ibm.com/identity/token\",\n",
    "    config=Config(signature_version='oauth'),\n",
    "    endpoint_url='https://s3.direct.eu-gb.cloud-object-storage.appdomain.cloud')\n",
    "\n",
    "bucket = 'nsapeligibilitypredictor-donotdelete-pr-xaefenum5uqw7d'\n",
    "object_key = 'new-nsapac.csv'\n",
    "\n",
    "body = cos_client.get_object(Bucket=bucket,Key=object_key)['Body']\n",
    "# add missing __iter__ method, so pandas accepts body as file-like object\n",
    "if not hasattr(body, \"__iter__\"): body.__iter__ = types.MethodType( __iter__, body )\n",
    "\n",
    "df_3 = pd.read_csv(body)\n",
    "df_3.head(10)\n",
    "\n",
    "import os, types\n",
    "import pandas as pd\n",
    "from botocore.client import Config\n",
    "import ibm_boto3\n",
    "\n",
    "def __iter__(self): return 0\n",
    "\n",
    "# @hidden_cell\n",
    "# The following code accesses a file in your IBM Cloud Object Storage. It includes your credentials.\n",
    "# You might want to remove those credentials before you share the notebook.\n",
    "\n",
    "cos_client = ibm_boto3.client(service_name='s3',\n",
    "    ibm_api_key_id='yq04Ml5U0c_khKeUcK6miM6qmXUqJ26vzHUCZ4EDoT_3',\n",
    "    ibm_auth_endpoint=\"https://iam.cloud.ibm.com/identity/token\",\n",
    "    config=Config(signature_version='oauth'),\n",
    "    endpoint_url='https://s3.direct.eu-gb.cloud-object-storage.appdomain.cloud')\n",
    "\n",
    "bucket = 'nsapeligibilitypredictor-donotdelete-pr-xaefenum5uqw7d'\n",
    "object_key = 'new-nsapac.csv'\n",
    "\n",
    "body = cos_client.get_object(Bucket=bucket,Key=object_key)['Body']\n",
    "# add missing __iter__ method, so pandas accepts body as file-like object\n",
    "if not hasattr(body, \"__iter__\"): body.__iter__ = types.MethodType( __iter__, body )\n",
    "\n",
    "df_2 = pd.read_csv(body)\n",
    "df_2.head(10)\n",
    "\n",
    "import os, types\n",
    "import pandas as pd\n",
    "from botocore.client import Config\n",
    "import ibm_boto3\n",
    "\n",
    "def __iter__(self): return 0\n",
    "\n",
    "# @hidden_cell\n",
    "# The following code accesses a file in your IBM Cloud Object Storage. It includes your credentials.\n",
    "# You might want to remove those credentials before you share the notebook.\n",
    "\n",
    "cos_client = ibm_boto3.client(service_name='s3',\n",
    "    ibm_api_key_id='yq04Ml5U0c_khKeUcK6miM6qmXUqJ26vzHUCZ4EDoT_3',\n",
    "    ibm_auth_endpoint=\"https://iam.cloud.ibm.com/identity/token\",\n",
    "    config=Config(signature_version='oauth'),\n",
    "    endpoint_url='https://s3.direct.eu-gb.cloud-object-storage.appdomain.cloud')\n",
    "\n",
    "bucket = 'nsapeligibilitypredictor-donotdelete-pr-xaefenum5uqw7d'\n",
    "object_key = 'new-nsapac.csv'\n",
    "\n",
    "body = cos_client.get_object(Bucket=bucket,Key=object_key)['Body']\n",
    "# add missing __iter__ method, so pandas accepts body as file-like object\n",
    "if not hasattr(body, \"__iter__\"): body.__iter__ = types.MethodType( __iter__, body )\n",
    "\n",
    "df_1 = pd.read_csv(body)\n",
    "df_1.head(10)\n"
   ]
  },
  {
   "cell_type": "code",
   "execution_count": 9,
   "metadata": {
    "id": "3208b640-1bad-46e2-85b1-11efbc6ba3ae"
   },
   "outputs": [],
   "source": [
    "# Use the loaded data as your working dataframe\n",
    "df = df_1.copy()\n"
   ]
  },
  {
   "cell_type": "code",
   "execution_count": 10,
   "metadata": {
    "id": "ee894abd-bae3-44f6-a079-9fd1b26af5ec"
   },
   "outputs": [
    {
     "data": {
      "text/html": [
       "<div>\n",
       "<style scoped>\n",
       "    .dataframe tbody tr th:only-of-type {\n",
       "        vertical-align: middle;\n",
       "    }\n",
       "\n",
       "    .dataframe tbody tr th {\n",
       "        vertical-align: top;\n",
       "    }\n",
       "\n",
       "    .dataframe thead th {\n",
       "        text-align: right;\n",
       "    }\n",
       "</style>\n",
       "<table border=\"1\" class=\"dataframe\">\n",
       "  <thead>\n",
       "    <tr style=\"text-align: right;\">\n",
       "      <th></th>\n",
       "      <th>state_ut_name</th>\n",
       "      <th>state_ut_code</th>\n",
       "      <th>constituency</th>\n",
       "      <th>constituency_code</th>\n",
       "      <th>fiscal_year</th>\n",
       "      <th>indicator_1</th>\n",
       "      <th>indicator_2</th>\n",
       "      <th>indicator_3</th>\n",
       "    </tr>\n",
       "  </thead>\n",
       "  <tbody>\n",
       "    <tr>\n",
       "      <th>0</th>\n",
       "      <td>Bihar</td>\n",
       "      <td>4</td>\n",
       "      <td>Valmiki Nagar</td>\n",
       "      <td>1</td>\n",
       "      <td>2019-20</td>\n",
       "      <td>10.12</td>\n",
       "      <td>10.12</td>\n",
       "      <td>100.0</td>\n",
       "    </tr>\n",
       "    <tr>\n",
       "      <th>1</th>\n",
       "      <td>Bihar</td>\n",
       "      <td>4</td>\n",
       "      <td>Ramnagar (SC)</td>\n",
       "      <td>2</td>\n",
       "      <td>2019-20</td>\n",
       "      <td>7.19</td>\n",
       "      <td>7.19</td>\n",
       "      <td>100.0</td>\n",
       "    </tr>\n",
       "    <tr>\n",
       "      <th>2</th>\n",
       "      <td>Bihar</td>\n",
       "      <td>4</td>\n",
       "      <td>Narkatiaganj</td>\n",
       "      <td>3</td>\n",
       "      <td>2019-20</td>\n",
       "      <td>7.17</td>\n",
       "      <td>7.17</td>\n",
       "      <td>100.0</td>\n",
       "    </tr>\n",
       "    <tr>\n",
       "      <th>3</th>\n",
       "      <td>Bihar</td>\n",
       "      <td>4</td>\n",
       "      <td>Bagaha</td>\n",
       "      <td>4</td>\n",
       "      <td>2019-20</td>\n",
       "      <td>6.46</td>\n",
       "      <td>6.46</td>\n",
       "      <td>100.0</td>\n",
       "    </tr>\n",
       "    <tr>\n",
       "      <th>4</th>\n",
       "      <td>Bihar</td>\n",
       "      <td>4</td>\n",
       "      <td>Lauriya</td>\n",
       "      <td>5</td>\n",
       "      <td>2019-20</td>\n",
       "      <td>7.39</td>\n",
       "      <td>7.39</td>\n",
       "      <td>100.0</td>\n",
       "    </tr>\n",
       "  </tbody>\n",
       "</table>\n",
       "</div>"
      ],
      "text/plain": [
       "  state_ut_name  state_ut_code   constituency  constituency_code fiscal_year  \\\n",
       "0         Bihar              4  Valmiki Nagar                  1     2019-20   \n",
       "1         Bihar              4  Ramnagar (SC)                  2     2019-20   \n",
       "2         Bihar              4   Narkatiaganj                  3     2019-20   \n",
       "3         Bihar              4         Bagaha                  4     2019-20   \n",
       "4         Bihar              4        Lauriya                  5     2019-20   \n",
       "\n",
       "   indicator_1  indicator_2  indicator_3  \n",
       "0        10.12        10.12        100.0  \n",
       "1         7.19         7.19        100.0  \n",
       "2         7.17         7.17        100.0  \n",
       "3         6.46         6.46        100.0  \n",
       "4         7.39         7.39        100.0  "
      ]
     },
     "execution_count": 10,
     "metadata": {},
     "output_type": "execute_result"
    }
   ],
   "source": [
    "# Clean column names: remove spaces, lowercase, and underscores\n",
    "df.columns = df.columns.str.strip().str.lower().str.replace(' ', '_')\n",
    "df.head()\n"
   ]
  },
  {
   "cell_type": "code",
   "execution_count": 11,
   "metadata": {
    "id": "a7996740-409b-4d11-8851-2b66aa98615b"
   },
   "outputs": [
    {
     "name": "stdout",
     "output_type": "stream",
     "text": [
      "Column info:\n",
      "<class 'pandas.core.frame.DataFrame'>\n",
      "RangeIndex: 2504 entries, 0 to 2503\n",
      "Data columns (total 8 columns):\n",
      " #   Column             Non-Null Count  Dtype  \n",
      "---  ------             --------------  -----  \n",
      " 0   state_ut_name      2504 non-null   object \n",
      " 1   state_ut_code      2504 non-null   int64  \n",
      " 2   constituency       2504 non-null   object \n",
      " 3   constituency_code  2504 non-null   int64  \n",
      " 4   fiscal_year        2504 non-null   object \n",
      " 5   indicator_1        2006 non-null   float64\n",
      " 6   indicator_2        2006 non-null   float64\n",
      " 7   indicator_3        2006 non-null   float64\n",
      "dtypes: float64(3), int64(2), object(3)\n",
      "memory usage: 156.6+ KB\n",
      "\n",
      "Missing values:\n",
      "state_ut_name          0\n",
      "state_ut_code          0\n",
      "constituency           0\n",
      "constituency_code      0\n",
      "fiscal_year            0\n",
      "indicator_1          498\n",
      "indicator_2          498\n",
      "indicator_3          498\n",
      "dtype: int64\n"
     ]
    }
   ],
   "source": [
    "# Check data types and missing/null values\n",
    "print(\"Column info:\")\n",
    "df.info()\n",
    "\n",
    "print(\"\\nMissing values:\")\n",
    "print(df.isnull().sum())\n"
   ]
  },
  {
   "cell_type": "code",
   "execution_count": 16,
   "metadata": {
    "id": "554b02de-d7e9-4ab4-82a3-54f9c738d569"
   },
   "outputs": [
    {
     "name": "stdout",
     "output_type": "stream",
     "text": [
      "Label Mapping (scheme name → encoded value):\n",
      "{'indicator_1': 0, 'indicator_3': 1, nan: 2}\n"
     ]
    },
    {
     "name": "stderr",
     "output_type": "stream",
     "text": [
      "/tmp/wsuser/ipykernel_136/2058107499.py:4: FutureWarning: The behavior of DataFrame.idxmax with all-NA values, or any-NA and skipna=False, is deprecated. In a future version this will raise ValueError\n",
      "  df['nsap_scheme'] = df[['indicator_1', 'indicator_2', 'indicator_3']].idxmax(axis=1)\n"
     ]
    },
    {
     "data": {
      "text/html": [
       "<div>\n",
       "<style scoped>\n",
       "    .dataframe tbody tr th:only-of-type {\n",
       "        vertical-align: middle;\n",
       "    }\n",
       "\n",
       "    .dataframe tbody tr th {\n",
       "        vertical-align: top;\n",
       "    }\n",
       "\n",
       "    .dataframe thead th {\n",
       "        text-align: right;\n",
       "    }\n",
       "</style>\n",
       "<table border=\"1\" class=\"dataframe\">\n",
       "  <thead>\n",
       "    <tr style=\"text-align: right;\">\n",
       "      <th></th>\n",
       "      <th>indicator_1</th>\n",
       "      <th>indicator_2</th>\n",
       "      <th>indicator_3</th>\n",
       "      <th>nsap_scheme</th>\n",
       "    </tr>\n",
       "  </thead>\n",
       "  <tbody>\n",
       "    <tr>\n",
       "      <th>0</th>\n",
       "      <td>10.12</td>\n",
       "      <td>10.12</td>\n",
       "      <td>100.0</td>\n",
       "      <td>1</td>\n",
       "    </tr>\n",
       "    <tr>\n",
       "      <th>1</th>\n",
       "      <td>7.19</td>\n",
       "      <td>7.19</td>\n",
       "      <td>100.0</td>\n",
       "      <td>1</td>\n",
       "    </tr>\n",
       "    <tr>\n",
       "      <th>2</th>\n",
       "      <td>7.17</td>\n",
       "      <td>7.17</td>\n",
       "      <td>100.0</td>\n",
       "      <td>1</td>\n",
       "    </tr>\n",
       "    <tr>\n",
       "      <th>3</th>\n",
       "      <td>6.46</td>\n",
       "      <td>6.46</td>\n",
       "      <td>100.0</td>\n",
       "      <td>1</td>\n",
       "    </tr>\n",
       "    <tr>\n",
       "      <th>4</th>\n",
       "      <td>7.39</td>\n",
       "      <td>7.39</td>\n",
       "      <td>100.0</td>\n",
       "      <td>1</td>\n",
       "    </tr>\n",
       "  </tbody>\n",
       "</table>\n",
       "</div>"
      ],
      "text/plain": [
       "   indicator_1  indicator_2  indicator_3  nsap_scheme\n",
       "0        10.12        10.12        100.0            1\n",
       "1         7.19         7.19        100.0            1\n",
       "2         7.17         7.17        100.0            1\n",
       "3         6.46         6.46        100.0            1\n",
       "4         7.39         7.39        100.0            1"
      ]
     },
     "execution_count": 16,
     "metadata": {},
     "output_type": "execute_result"
    }
   ],
   "source": [
    "from sklearn.preprocessing import LabelEncoder\n",
    "\n",
    "# 🔹 Step 3.1: Create a new target column (based on which indicator has the highest value)\n",
    "df['nsap_scheme'] = df[['indicator_1', 'indicator_2', 'indicator_3']].idxmax(axis=1)\n",
    "\n",
    "# 🔹 Step 3.2: Encode the new target column\n",
    "le = LabelEncoder()\n",
    "df['nsap_scheme'] = le.fit_transform(df['nsap_scheme'])\n",
    "\n",
    "# 🔹 Optional: Show the mapping for interpretability\n",
    "label_map = dict(zip(le.classes_, le.transform(le.classes_)))\n",
    "print(\"Label Mapping (scheme name → encoded value):\")\n",
    "print(label_map)\n",
    "\n",
    "# 🔹 Show a preview\n",
    "df[['indicator_1', 'indicator_2', 'indicator_3', 'nsap_scheme']].head()\n"
   ]
  },
  {
   "cell_type": "code",
   "execution_count": 15,
   "metadata": {
    "id": "30b48142-a2ee-447b-9326-212904794ccd"
   },
   "outputs": [
    {
     "name": "stdout",
     "output_type": "stream",
     "text": [
      "['state_ut_name', 'state_ut_code', 'constituency', 'constituency_code', 'fiscal_year', 'indicator_1', 'indicator_2', 'indicator_3']\n"
     ]
    }
   ],
   "source": [
    "print(df.columns.tolist())\n"
   ]
  },
  {
   "cell_type": "code",
   "execution_count": null,
   "metadata": {
    "id": "730fee6a-a428-4677-b805-f3713e977a8e"
   },
   "outputs": [
    {
     "name": "stdout",
     "output_type": "stream",
     "text": [
      "✅ Train-test split complete!\n",
      "X_train shape: (2003, 3)\n",
      "X_test shape: (501, 3)\n",
      "y_train shape: (2003,)\n",
      "y_test shape: (501,)\n"
     ]
    }
   ],
   "source": [
    "from sklearn.model_selection import train_test_split\n",
    "\n",
    "# 🔹 Define features (X) and target (y)\n",
    "X = df[['indicator_1', 'indicator_2', 'indicator_3']]  # Feature columns\n",
    "y = df['nsap_scheme']                                 # Target column\n",
    "\n",
    "# 🔹 Split into training and testing sets\n",
    "X_train, X_test, y_train, y_test = train_test_split(\n",
    "    X, y, test_size=0.2, random_state=42, stratify=y)  # stratify keeps class distribution balanced\n",
    "\n",
    "# 🔹 Print result shapes\n",
    "print(\"Train-test split complete!\")\n",
    "print(f\"X_train shape: {X_train.shape}\")\n",
    "print(f\"X_test shape: {X_test.shape}\")\n",
    "print(f\"y_train shape: {y_train.shape}\")\n",
    "print(f\"y_test shape: {y_test.shape}\")\n"
   ]
  },
  {
   "cell_type": "code",
   "execution_count": 20,
   "metadata": {
    "id": "fd45cc13-86c5-4d66-96ec-218518365a23"
   },
   "outputs": [
    {
     "name": "stdout",
     "output_type": "stream",
     "text": [
      "✅ Accuracy Score: 1.0\n",
      "\n",
      "📊 Classification Report:\n",
      "               precision    recall  f1-score   support\n",
      "\n",
      "           0       1.00      1.00      1.00         4\n",
      "           1       1.00      1.00      1.00       397\n",
      "           2       1.00      1.00      1.00       100\n",
      "\n",
      "    accuracy                           1.00       501\n",
      "   macro avg       1.00      1.00      1.00       501\n",
      "weighted avg       1.00      1.00      1.00       501\n",
      "\n",
      "\n",
      "🧩 Confusion Matrix:\n",
      " [[  4   0   0]\n",
      " [  0 397   0]\n",
      " [  0   0 100]]\n"
     ]
    }
   ],
   "source": [
    "from sklearn.ensemble import RandomForestClassifier\n",
    "from sklearn.metrics import accuracy_score, classification_report, confusion_matrix\n",
    "from sklearn.impute import SimpleImputer\n",
    "import numpy as np\n",
    "\n",
    "# 🔹 Step 5.0: Handle NaN values (impute with mean)\n",
    "imputer = SimpleImputer(missing_values=np.nan, strategy='mean')\n",
    "X_train_imputed = imputer.fit_transform(X_train)\n",
    "X_test_imputed = imputer.transform(X_test)\n",
    "\n",
    "# 🔹 Step 5.1: Initialize and train the model\n",
    "model = RandomForestClassifier(n_estimators=100, random_state=42)\n",
    "model.fit(X_train_imputed, y_train)\n",
    "\n",
    "# 🔹 Step 5.2: Predict on test data\n",
    "y_pred = model.predict(X_test_imputed)\n",
    "\n",
    "# 🔹 Step 5.3: Evaluate the model\n",
    "print(\"✅ Accuracy Score:\", accuracy_score(y_test, y_pred))\n",
    "print(\"\\n📊 Classification Report:\\n\", classification_report(y_test, y_pred))\n",
    "print(\"\\n🧩 Confusion Matrix:\\n\", confusion_matrix(y_test, y_pred))\n"
   ]
  },
  {
   "cell_type": "code",
   "execution_count": 22,
   "metadata": {
    "id": "f46ca2f3-16d0-446e-88dc-32ccd9c1da6c"
   },
   "outputs": [
    {
     "data": {
      "image/png": "[encoded data removed]",
      "text/plain": [
       "<Figure size 600x400 with 1 Axes>"
      ]
     },
     "metadata": {},
     "output_type": "display_data"
    }
   ],
   "source": [
    "import matplotlib.pyplot as plt\n",
    "import seaborn as sns\n",
    "\n",
    "# Get feature importances\n",
    "importances = model.feature_importances_\n",
    "feature_names = X.columns\n",
    "\n",
    "# Plot without emoji to avoid warning\n",
    "plt.figure(figsize=(6, 4))\n",
    "sns.barplot(x=importances, y=feature_names, palette='viridis')\n",
    "plt.title(\"Feature Importance\")\n",
    "plt.xlabel(\"Importance Score\")\n",
    "plt.ylabel(\"Feature\")\n",
    "plt.tight_layout()\n",
    "plt.show()\n"
   ]
  },
  {
   "cell_type": "code",
   "execution_count": 23,
   "metadata": {
    "id": "2dfa3788-c404-415b-9dd4-15c502757a41"
   },
   "outputs": [
    {
     "name": "stdout",
     "output_type": "stream",
     "text": [
      "Predicted Scheme: 2, Confidence: 1.00\n",
      "Predicted Scheme: 1, Confidence: 1.00\n",
      "Predicted Scheme: 1, Confidence: 1.00\n",
      "Predicted Scheme: 2, Confidence: 1.00\n",
      "Predicted Scheme: 2, Confidence: 1.00\n"
     ]
    }
   ],
   "source": [
    "probs = model.predict_proba(X_test_imputed)\n",
    "confidence = probs.max(axis=1)\n",
    "\n",
    "# Show prediction + confidence\n",
    "for i in range(5):\n",
    "    print(f\"Predicted Scheme: {y_pred[i]}, Confidence: {confidence[i]:.2f}\")\n"
   ]
  },
  {
   "cell_type": "code",
   "execution_count": 25,
   "metadata": {
    "id": "53eae643-7585-44ba-ac59-e2b164a2ea06"
   },
   "outputs": [
    {
     "data": {
      "image/png": "[encoded data removed]",
      "text/plain": [
       "<Figure size 1150x660 with 3 Axes>"
      ]
     },
     "metadata": {},
     "output_type": "display_data"
    }
   ],
   "source": [
    "import shap\n",
    "\n",
    "explainer = shap.TreeExplainer(model)\n",
    "shap_values = explainer.shap_values(X_train_imputed)\n",
    "\n",
    "shap.summary_plot(shap_values, X_train, feature_names=X.columns)\n"
   ]
  },
  {
   "cell_type": "code",
   "execution_count": 26,
   "metadata": {
    "id": "529a4f03-c638-4c58-99e5-435d0d32947b"
   },
   "outputs": [
    {
     "name": "stdout",
     "output_type": "stream",
     "text": [
      "🚨 States with weakest scheme coverage:\n",
      "state_ut_name\n",
      "Maharashtra      35.494916\n",
      "Uttar Pradesh    37.096382\n",
      "Chhattisgarh     39.035918\n",
      "Bihar            39.520972\n",
      "Odisha           56.689555\n",
      "dtype: float64\n"
     ]
    }
   ],
   "source": [
    "region_scores = df.groupby('state_ut_name')[['indicator_1', 'indicator_2', 'indicator_3']].mean()\n",
    "lowest_states = region_scores.mean(axis=1).sort_values().head(5)\n",
    "print(\"🚨 States with weakest scheme coverage:\")\n",
    "print(lowest_states)\n"
   ]
  },
  {
   "cell_type": "code",
   "execution_count": 29,
   "metadata": {
    "id": "fa0db1e0-2258-42f5-9514-dc6d3c8883a6"
   },
   "outputs": [
    {
     "name": "stdout",
     "output_type": "stream",
     "text": [
      "RandomForest Accuracy: 1.0000\n",
      "LogisticRegression Accuracy: 0.8004\n",
      "XGBoost Accuracy: 0.9940\n"
     ]
    }
   ],
   "source": [
    "from sklearn.linear_model import LogisticRegression\n",
    "from xgboost import XGBClassifier  # You need to pip install xgboost if not installed\n",
    "from sklearn.ensemble import RandomForestClassifier\n",
    "from sklearn.metrics import accuracy_score\n",
    "\n",
    "# Define the models\n",
    "models = {\n",
    "    \"RandomForest\": RandomForestClassifier(n_estimators=100, random_state=42),\n",
    "    \"LogisticRegression\": LogisticRegression(max_iter=1000),\n",
    "    \"XGBoost\": XGBClassifier(use_label_encoder=False, eval_metric='mlogloss')  # Prevents warning\n",
    "}\n",
    "\n",
    "# Train, predict, evaluate\n",
    "for name, model in models.items():\n",
    "    model.fit(X_train_imputed, y_train)\n",
    "    preds = model.predict(X_test_imputed)\n",
    "    acc = accuracy_score(y_test, preds)\n",
    "    print(f\"{name} Accuracy: {acc:.4f}\")"
   ]
  },
  {
   "cell_type": "code",
   "execution_count": null,
   "metadata": {
    "id": "68c2ccf7-42a5-47d0-8703-42ff63690bc3"
   },
   "outputs": [],
   "source": []
  }
 ],
 "metadata": {
  "kernelspec": {
   "display_name": "Python 3.11",
   "language": "python",
   "name": "python3"
  },
  "language_info": {
   "codemirror_mode": {
    "name": "ipython",
    "version": 3
   },
   "file_extension": ".py",
   "mimetype": "text/x-python",
   "name": "python",
   "nbconvert_exporter": "python",
   "pygments_lexer": "ipython3",
   "version": "3.11.13"
  }
 },
 "nbformat": 4,
 "nbformat_minor": 4
}
