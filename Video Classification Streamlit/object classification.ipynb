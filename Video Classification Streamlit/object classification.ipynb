{
 "cells": [
  {
   "cell_type": "code",
   "execution_count": null,
   "id": "171cc6f0-3f17-48c3-8def-c7de469882a2",
   "metadata": {
    "scrolled": true
   },
   "outputs": [],
   "source": [
    "!pip install ultralytics"
   ]
  },
  {
   "cell_type": "code",
   "execution_count": 3,
   "id": "09359cb1-1570-4506-b823-2d30a0ed857a",
   "metadata": {},
   "outputs": [],
   "source": [
    "from ultralytics import YOLO"
   ]
  },
  {
   "cell_type": "code",
   "execution_count": null,
   "id": "9b2747a4-2a71-413f-9da7-80f9853db9de",
   "metadata": {},
   "outputs": [],
   "source": [
    "# Load a pre-trained YOLOv8 model (nano version for speed)\n",
    "model = YOLO('yolov8n.pt')\n",
    "# Run detection on an image\n",
    "results = model('https://ultralytics.com/images/bus.jpg')\n",
    "# Show the results\n",
    "results[0].show()\n",
    "# Save results to folder\n",
    "results[0].save('output/')"
   ]
  },
  {
   "cell_type": "code",
   "execution_count": null,
   "id": "13ff605a-5d26-4928-a6a2-b102bb8f0297",
   "metadata": {},
   "outputs": [],
   "source": []
  }
 ],
 "metadata": {
  "kernelspec": {
   "display_name": "Python 3 (ipykernel)",
   "language": "python",
   "name": "python3"
  },
  "language_info": {
   "codemirror_mode": {
    "name": "ipython",
    "version": 3
   },
   "file_extension": ".py",
   "mimetype": "text/x-python",
   "name": "python",
   "nbconvert_exporter": "python",
   "pygments_lexer": "ipython3",
   "version": "3.9.6"
  }
 },
 "nbformat": 4,
 "nbformat_minor": 5
}
